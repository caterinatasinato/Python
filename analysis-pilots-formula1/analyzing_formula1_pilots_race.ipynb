{
  "nbformat": 4,
  "nbformat_minor": 0,
  "metadata": {
    "colab": {
      "provenance": []
    },
    "kernelspec": {
      "name": "python3",
      "display_name": "Python 3"
    },
    "language_info": {
      "name": "python"
    }
  },
  "cells": [
    {
      "cell_type": "code",
      "execution_count": null,
      "metadata": {
        "id": "dTJvlhfnPGSs"
      },
      "outputs": [],
      "source": [
        "import csv\n",
        "import os\n",
        "\n",
        "# Define the points for positions 1 to 8 in the Formula 1 Rank\n",
        "points_position = {1: 10, 2: 8, 3: 6, 4: 5, 5: 4, 6: 3, 7: 2, 8: 1}"
      ]
    },
    {
      "cell_type": "markdown",
      "source": [
        "**1. How many points, podiums and victories did each driver get in the race?**"
      ],
      "metadata": {
        "id": "PYRUJNitR13J"
      }
    },
    {
      "cell_type": "code",
      "source": [
        "\n",
        "def specific_stats(driver):\n",
        "\n",
        "    \"\"\"\n",
        "    This function takes the name of a driver as input and returns a list containing:\n",
        "    - Total points of each driver\n",
        "    - Number of wins\n",
        "    - Number of podiums\n",
        "    \"\"\"\n",
        "\n",
        "    input_file = '/content/formula1_data.csv'\n",
        "\n",
        "    if not os.path.exists(input_file):\n",
        "        print(f\"File not found: please upload 'formula1_data.csv' into the workspace.\")\n",
        "        return\n",
        "\n",
        "    total_points = 0\n",
        "    num_podiums = 0\n",
        "    num_wins = 0\n",
        "    driver_found = False\n",
        "\n",
        "    with open(input_file, encoding='utf-8') as csv_file:\n",
        "        csv_reader = csv.DictReader(csv_file)\n",
        "\n",
        "        for row in csv_reader:\n",
        "            if row['Driver'].lower() == driver.lower():\n",
        "                driver_found = True\n",
        "                position = int(row['Position'])\n",
        "\n",
        "                if position in points_position:\n",
        "                    points = points_position[position]\n",
        "                    total_points += points\n",
        "\n",
        "                    if position <= 3:\n",
        "                        num_podiums += 1\n",
        "\n",
        "                    if position == 1:\n",
        "                        num_wins += 1\n",
        "                else:\n",
        "                  total_points += 0\n",
        "\n",
        "        if not driver_found:\n",
        "            print(f\"Driver {driver} not found in this dataset.\")\n",
        "            return\n",
        "\n",
        "    print([total_points, num_podiums, num_wins])\n",
        "\n",
        "driver_name = input(\"Name of the pilot: \")\n",
        "specific_stats(driver_name)"
      ],
      "metadata": {
        "colab": {
          "base_uri": "https://localhost:8080/"
        },
        "id": "7pwn_e6IPIsS",
        "outputId": "010fce6f-b274-4e04-c608-c7e1187b9eed"
      },
      "execution_count": null,
      "outputs": [
        {
          "output_type": "stream",
          "name": "stdout",
          "text": [
            "Name of the pilot: Hamilton\n",
            "[98, 10, 5]\n"
          ]
        }
      ]
    },
    {
      "cell_type": "markdown",
      "source": [
        "**2. What was the final drivers' rank?**"
      ],
      "metadata": {
        "id": "YuuKYUHOS1FO"
      }
    },
    {
      "cell_type": "code",
      "source": [
        "def final_rank_drivers():\n",
        "\n",
        "    \"\"\"\n",
        "    This function reads race data from a CSV file, calculates the total points for each driver,\n",
        "    and saves the drivers' standings in a text file called \"Final_rank_Formula1_2008.txt\".\n",
        "    \"\"\"\n",
        "\n",
        "    input_file = '/content/formula1_data.csv'\n",
        "\n",
        "    if not os.path.exists(input_file):\n",
        "        print(f\"{input_file} not found\")\n",
        "        return\n",
        "\n",
        "    rank_drivers = {}\n",
        "\n",
        "    with open(input_file, encoding='utf-8') as csv_file:\n",
        "        csv_reader = csv.DictReader(csv_file)\n",
        "\n",
        "        for row in csv_reader:\n",
        "            driver_name = row['Driver']\n",
        "            position = int(row['Position'])\n",
        "\n",
        "            if position in points_position:\n",
        "                points = points_position[position]\n",
        "                rank_drivers[driver_name] = rank_drivers.get(driver_name, 0) + points\n",
        "\n",
        "    rank_drivers_sorted = dict(sorted(rank_drivers.items(), key=lambda item: item[1], reverse=True))\n",
        "\n",
        "    output_file = '/content/Final_Rank_Formula1_2008.txt'\n",
        "    with open(output_file, 'w', encoding='utf-8') as file:\n",
        "        file.write('Drivers Standings 2008 Formula 1\\n')\n",
        "        for rank, (driver, points) in enumerate(rank_drivers_sorted.items(), start=1):\n",
        "            file.write(f\"{rank}. {driver}: {points} points\\n\")\n",
        "\n",
        "    return rank_drivers_sorted\n",
        "\n",
        "final_rank_drivers()"
      ],
      "metadata": {
        "colab": {
          "base_uri": "https://localhost:8080/"
        },
        "id": "W3sZptXWPdLV",
        "outputId": "48bd8753-190f-4089-e15d-adf19d720921"
      },
      "execution_count": null,
      "outputs": [
        {
          "output_type": "execute_result",
          "data": {
            "text/plain": [
              "{'Hamilton': 98,\n",
              " 'Massa': 97,\n",
              " 'Raikkonen': 75,\n",
              " 'Kubica': 75,\n",
              " 'Alonso': 61,\n",
              " 'Heidfeld': 60,\n",
              " 'Kovalainen': 53,\n",
              " 'Vettel': 35,\n",
              " 'Trulli': 31,\n",
              " 'Glock': 25}"
            ]
          },
          "metadata": {},
          "execution_count": 7
        }
      ]
    },
    {
      "cell_type": "markdown",
      "source": [
        "**3. What was the final team rank?**"
      ],
      "metadata": {
        "id": "Ttv2xjpKTCd4"
      }
    },
    {
      "cell_type": "code",
      "source": [
        "def final_rank_teams():\n",
        "    \"\"\"\n",
        "    This function reads the drivers' standings from the txt.file previously generated,\n",
        "    calculates the total points for each team summing up the points of each driver,\n",
        "    and returns a dictionary of teams and their total points.\n",
        "    \"\"\"\n",
        "    output_file = '/content/Final_Rank_Formula1_2008.txt'\n",
        "\n",
        "    if not os.path.exists(output_file):\n",
        "        print(f\"{output_file} not found\")\n",
        "        return\n",
        "\n",
        "    drivers_teams = {\n",
        "        'Hamilton': 'McLaren',\n",
        "        'Massa': 'Ferrari',\n",
        "        'Raikkonen': 'Ferrari',\n",
        "        'Kubica': 'BMW',\n",
        "        'Alonso': 'Renault',\n",
        "        'Heidfeld': 'BMW',\n",
        "        'Kovalainen': 'McLaren',\n",
        "        'Vettel': 'Toro Rosso',\n",
        "        'Trulli': 'Toyota',\n",
        "        'Glock': 'Toyota'\n",
        "    }\n",
        "\n",
        "    rank_drivers = {}\n",
        "\n",
        "    with open(output_file, encoding='utf-8') as txt_file:\n",
        "        lines = txt_file.readlines()\n",
        "        for line in lines[1:]:\n",
        "            parts = line.strip().split(': ')\n",
        "            if len(parts) == 2:\n",
        "                driver = parts[0].split('. ')[1]\n",
        "                points = int(parts[1].split()[0])\n",
        "                rank_drivers[driver] = points\n",
        "\n",
        "    rank_teams = {}\n",
        "    for driver, points in rank_drivers.items():\n",
        "        team = drivers_teams.get(driver)\n",
        "        if team:\n",
        "            rank_teams[team] = rank_teams.get(team, 0) + points\n",
        "\n",
        "    rank_teams_sorted = dict(sorted(rank_teams.items(), key=lambda item: item[1], reverse=True))\n",
        "\n",
        "    return rank_teams_sorted\n",
        "\n",
        "final_rank_drivers()"
      ],
      "metadata": {
        "colab": {
          "base_uri": "https://localhost:8080/"
        },
        "id": "WHyWgb-IPq8C",
        "outputId": "ed949662-2e31-43e2-e247-526e827e1010"
      },
      "execution_count": null,
      "outputs": [
        {
          "output_type": "execute_result",
          "data": {
            "text/plain": [
              "{'Hamilton': 98,\n",
              " 'Massa': 97,\n",
              " 'Raikkonen': 75,\n",
              " 'Kubica': 75,\n",
              " 'Alonso': 61,\n",
              " 'Heidfeld': 60,\n",
              " 'Kovalainen': 53,\n",
              " 'Vettel': 35,\n",
              " 'Trulli': 31,\n",
              " 'Glock': 25}"
            ]
          },
          "metadata": {},
          "execution_count": 8
        }
      ]
    }
  ]
}
